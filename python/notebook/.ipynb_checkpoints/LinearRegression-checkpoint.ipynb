{
 "metadata": {
  "name": "",
  "signature": "sha256:af02fa27f06937e0f6b00e7d5428d5bc09dbef69bfd0b6aed1d3431670e295a8"
 },
 "nbformat": 3,
 "nbformat_minor": 0,
 "worksheets": [
  {
   "cells": [
    {
     "cell_type": "code",
     "collapsed": false,
     "input": [
      "%%javascript\n",
      "MathJax.Hub.Config({\n",
      "  TeX: { equationNumbers: { autoNumber: \"AMS\" } }\n",
      "});"
     ],
     "language": "python",
     "metadata": {},
     "outputs": [
      {
       "javascript": [
        "MathJax.Hub.Config({\n",
        "  TeX: { equationNumbers: { autoNumber: \"AMS\" } }\n",
        "});"
       ],
       "metadata": {},
       "output_type": "display_data",
       "text": [
        "<IPython.core.display.Javascript at 0x28906f0>"
       ]
      }
     ],
     "prompt_number": 1
    },
    {
     "cell_type": "code",
     "collapsed": false,
     "input": [
      "%matplotlib inline\n",
      "import matplotlib.pyplot as plt\n",
      "import numpy as np\n",
      "import scipy as sp\n",
      "from scipy import linalg\n",
      "import pickle"
     ],
     "language": "python",
     "metadata": {},
     "outputs": [],
     "prompt_number": 5
    },
    {
     "cell_type": "markdown",
     "metadata": {},
     "source": [
      "$X^t = (X_1,X_2...X_p)$\n",
      "\n",
      "The linear regression model has the form\n",
      "\n",
      "$$f(X)=\\beta_0+\\sum^{p}_{j=1}\\mathbf{X}_j\\beta_j$$\n",
      "\n",
      "Least squares\n",
      "\n",
      "$$\\begin{align*}\n",
      "RSS(\\beta) &=\\sum_N^{i=1}(y_i-f(x_i))^2\\\\\n",
      "&=\\sum_{i=1}^N(y_i-\\beta_0-\\sum_{j=1}^px_{ij}\\beta_j)^2\\\\\n",
      "&=(\\mathbf{y}-\\mathbf{X}\\beta)^T(\\mathbf{y}-\\mathbf{X}\\beta)\n",
      "\\end{align*}$$\n",
      "\n",
      "Differentiating with respect to $\\beta$ we obtain\n",
      "$$\\mathbf{X}^T(\\mathbf{y}-\\mathbf{X}\\beta) = 0$$\n",
      "\n",
      "$$\\widehat\\beta=\\mathbf{(X^TX)^{-1}X^Ty}$$"
     ]
    },
    {
     "cell_type": "code",
     "collapsed": false,
     "input": [
      "def lineRegress(X, t, lambd = 0):\n",
      "    N, M = X.shape\n",
      "    return linalg.inv(X.dot(X.T) + np.eye(M)).dot(X.T).dot(t)\n"
     ],
     "language": "python",
     "metadata": {},
     "outputs": []
    },
    {
     "cell_type": "heading",
     "level": 1,
     "metadata": {},
     "source": [
      "PRML"
     ]
    },
    {
     "cell_type": "code",
     "collapsed": false,
     "input": [
      "with open('synthetic.dat', 'rb') as f:\n",
      "    allX, allY = pickle.load(f)\n",
      "X = allX[0].T"
     ],
     "language": "python",
     "metadata": {},
     "outputs": [
      {
       "metadata": {},
       "output_type": "pyout",
       "prompt_number": 8,
       "text": [
        "(100, 25)"
       ]
      }
     ],
     "prompt_number": 8
    },
    {
     "cell_type": "heading",
     "level": 1,
     "metadata": {},
     "source": [
      "ISRS"
     ]
    },
    {
     "cell_type": "code",
     "collapsed": false,
     "input": [
      "%debug\n",
      "def read_array(filename, dtype, separator=','):\n",
      "    \"\"\" Read a file with an arbitrary number of columns.\n",
      "        The type of data in each column is arbitrary\n",
      "        It will be cast to the given dtype at runtime\n",
      "    \"\"\"\n",
      "    cast = np.cast\n",
      "    data = [[] for dummy in xrange(len(dtype))]\n",
      "    for line in open(filename, 'r'):\n",
      "        fields = line.strip().split(separator)\n",
      "        for i, number in enumerate(fields):\n",
      "            data[i].append(number)\n",
      "    for i in xrange(len(dtype)):\n",
      "        data[i] = cast[dtype[i]](data[i])\n",
      "    return N.rec.array(data, dtype=dtype)\n",
      "                       \n",
      "mydescr = np.dtype([ ('TV', 'float32'), ('Radio', 'float32'), ('Newspaper', 'float32'), ('Sales', 'float32')])\n",
      "myrecarray = read_array('Advertising.csv', mydescr)\n",
      "            \n"
     ],
     "language": "python",
     "metadata": {},
     "outputs": [
      {
       "output_type": "stream",
       "stream": "stderr",
       "text": [
        "ERROR: No traceback has been produced, nothing to debug.\n"
       ]
      },
      {
       "ename": "IndexError",
       "evalue": "list index out of range",
       "output_type": "pyerr",
       "traceback": [
        "\u001b[1;31m---------------------------------------------------------------------------\u001b[0m\n\u001b[1;31mIndexError\u001b[0m                                Traceback (most recent call last)",
        "\u001b[1;32m<ipython-input-3-797a3badfae5>\u001b[0m in \u001b[0;36m<module>\u001b[1;34m()\u001b[0m\n\u001b[0;32m     16\u001b[0m \u001b[1;33m\u001b[0m\u001b[0m\n\u001b[0;32m     17\u001b[0m \u001b[0mmydescr\u001b[0m \u001b[1;33m=\u001b[0m \u001b[0mnp\u001b[0m\u001b[1;33m.\u001b[0m\u001b[0mdtype\u001b[0m\u001b[1;33m(\u001b[0m\u001b[1;33m[\u001b[0m \u001b[1;33m(\u001b[0m\u001b[1;34m'TV'\u001b[0m\u001b[1;33m,\u001b[0m \u001b[1;34m'float32'\u001b[0m\u001b[1;33m)\u001b[0m\u001b[1;33m,\u001b[0m \u001b[1;33m(\u001b[0m\u001b[1;34m'Radio'\u001b[0m\u001b[1;33m,\u001b[0m \u001b[1;34m'float32'\u001b[0m\u001b[1;33m)\u001b[0m\u001b[1;33m,\u001b[0m \u001b[1;33m(\u001b[0m\u001b[1;34m'Newspaper'\u001b[0m\u001b[1;33m,\u001b[0m \u001b[1;34m'float32'\u001b[0m\u001b[1;33m)\u001b[0m\u001b[1;33m,\u001b[0m \u001b[1;33m(\u001b[0m\u001b[1;34m'Sales'\u001b[0m\u001b[1;33m,\u001b[0m \u001b[1;34m'float32'\u001b[0m\u001b[1;33m)\u001b[0m\u001b[1;33m]\u001b[0m\u001b[1;33m)\u001b[0m\u001b[1;33m\u001b[0m\u001b[0m\n\u001b[1;32m---> 18\u001b[1;33m \u001b[0mmyrecarray\u001b[0m \u001b[1;33m=\u001b[0m \u001b[0mread_array\u001b[0m\u001b[1;33m(\u001b[0m\u001b[1;34m'Advertising.csv'\u001b[0m\u001b[1;33m,\u001b[0m \u001b[0mmydescr\u001b[0m\u001b[1;33m)\u001b[0m\u001b[1;33m\u001b[0m\u001b[0m\n\u001b[0m\u001b[0;32m     19\u001b[0m \u001b[1;33m\u001b[0m\u001b[0m\n",
        "\u001b[1;32m<ipython-input-3-797a3badfae5>\u001b[0m in \u001b[0;36mread_array\u001b[1;34m(filename, dtype, separator)\u001b[0m\n\u001b[0;32m     10\u001b[0m         \u001b[0mfields\u001b[0m \u001b[1;33m=\u001b[0m \u001b[0mline\u001b[0m\u001b[1;33m.\u001b[0m\u001b[0mstrip\u001b[0m\u001b[1;33m(\u001b[0m\u001b[1;33m)\u001b[0m\u001b[1;33m.\u001b[0m\u001b[0msplit\u001b[0m\u001b[1;33m(\u001b[0m\u001b[0mseparator\u001b[0m\u001b[1;33m)\u001b[0m\u001b[1;33m\u001b[0m\u001b[0m\n\u001b[0;32m     11\u001b[0m         \u001b[1;32mfor\u001b[0m \u001b[0mi\u001b[0m\u001b[1;33m,\u001b[0m \u001b[0mnumber\u001b[0m \u001b[1;32min\u001b[0m \u001b[0menumerate\u001b[0m\u001b[1;33m(\u001b[0m\u001b[0mfields\u001b[0m\u001b[1;33m)\u001b[0m\u001b[1;33m:\u001b[0m\u001b[1;33m\u001b[0m\u001b[0m\n\u001b[1;32m---> 12\u001b[1;33m             \u001b[0mdata\u001b[0m\u001b[1;33m[\u001b[0m\u001b[0mi\u001b[0m\u001b[1;33m]\u001b[0m\u001b[1;33m.\u001b[0m\u001b[0mappend\u001b[0m\u001b[1;33m(\u001b[0m\u001b[0mnumber\u001b[0m\u001b[1;33m)\u001b[0m\u001b[1;33m\u001b[0m\u001b[0m\n\u001b[0m\u001b[0;32m     13\u001b[0m     \u001b[1;32mfor\u001b[0m \u001b[0mi\u001b[0m \u001b[1;32min\u001b[0m \u001b[0mxrange\u001b[0m\u001b[1;33m(\u001b[0m\u001b[0mlen\u001b[0m\u001b[1;33m(\u001b[0m\u001b[0mdtype\u001b[0m\u001b[1;33m)\u001b[0m\u001b[1;33m)\u001b[0m\u001b[1;33m:\u001b[0m\u001b[1;33m\u001b[0m\u001b[0m\n\u001b[0;32m     14\u001b[0m         \u001b[0mdata\u001b[0m\u001b[1;33m[\u001b[0m\u001b[0mi\u001b[0m\u001b[1;33m]\u001b[0m \u001b[1;33m=\u001b[0m \u001b[0mcast\u001b[0m\u001b[1;33m[\u001b[0m\u001b[0mdtype\u001b[0m\u001b[1;33m[\u001b[0m\u001b[0mi\u001b[0m\u001b[1;33m]\u001b[0m\u001b[1;33m]\u001b[0m\u001b[1;33m(\u001b[0m\u001b[0mdata\u001b[0m\u001b[1;33m[\u001b[0m\u001b[0mi\u001b[0m\u001b[1;33m]\u001b[0m\u001b[1;33m)\u001b[0m\u001b[1;33m\u001b[0m\u001b[0m\n",
        "\u001b[1;31mIndexError\u001b[0m: list index out of range"
       ]
      }
     ],
     "prompt_number": 3
    },
    {
     "cell_type": "code",
     "collapsed": false,
     "input": [],
     "language": "python",
     "metadata": {},
     "outputs": []
    }
   ],
   "metadata": {}
  }
 ]
}