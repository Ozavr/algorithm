{
 "metadata": {
  "name": "",
  "signature": "sha256:3efd0a2b53aa444a695b92876f261d5096ae4d90a17e36e9bc945c65c09b54cf"
 },
 "nbformat": 3,
 "nbformat_minor": 0,
 "worksheets": []
}