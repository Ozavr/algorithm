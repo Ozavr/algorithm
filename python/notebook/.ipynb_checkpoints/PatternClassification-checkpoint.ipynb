{
 "metadata": {
  "name": "",
  "signature": "sha256:0496362c31617f7405620db6b42f514999f2c85ab77e6e174badf4b4c501b6c1"
 },
 "nbformat": 3,
 "nbformat_minor": 0,
 "worksheets": [
  {
   "cells": [
    {
     "cell_type": "code",
     "collapsed": false,
     "input": [
      "%matplotlib inline\n",
      "import matplotlib.pyplot as plt\n",
      "import numpy as np\n",
      "import scipy as sp\n",
      "import scipy.io as sio\n",
      "from __future__ import division"
     ],
     "language": "python",
     "metadata": {},
     "outputs": [],
     "prompt_number": 1
    },
    {
     "cell_type": "heading",
     "level": 1,
     "metadata": {},
     "source": [
      "2"
     ]
    },
    {
     "cell_type": "code",
     "collapsed": false,
     "input": [
      "dataPath = 'plData\\\\DHSchapter2.mat'\n",
      "data = sio.loadmat(dataPath)"
     ],
     "language": "python",
     "metadata": {},
     "outputs": [
      {
       "metadata": {},
       "output_type": "pyout",
       "prompt_number": 2,
       "text": [
        "(3, 30)"
       ]
      }
     ],
     "prompt_number": 2
    },
    {
     "cell_type": "code",
     "collapsed": false,
     "input": [
      "##1\n"
     ],
     "language": "python",
     "metadata": {},
     "outputs": [],
     "prompt_number": 3
    },
    {
     "cell_type": "code",
     "collapsed": false,
     "input": [
      "##5\n",
      "import random\n",
      "import math\n",
      "import scipy.stats\n",
      "def genUniform(a, b, n):\n",
      "    for i in xrange(n):\n",
      "        yield random.uniform(a, b)\n",
      "        \n",
      "def genTotal(totalNum):\n",
      "    num = totalNum\n",
      "    while num > 0:\n",
      "        xi = random.uniform(-100, 100)\n",
      "        xj = random.uniform(-100, 100)\n",
      "        if xi > xj:\n",
      "            t = xi\n",
      "            xi = xj\n",
      "            xj = t\n",
      "        n = random.randint(1, 100)\n",
      "        if n < num:\n",
      "            num -= n\n",
      "        else:\n",
      "            n = num\n",
      "            num = 0\n",
      "        \n",
      "        for p in genUniform(xi, xj, n):\n",
      "            yield p\n",
      "\n",
      "N = 1000000\n",
      "data = list(genTotal(N))\n",
      "mu = np.mean(data)\n",
      "std = np.std(data)\n",
      "print mu\n",
      "print std\n",
      "hist, bins = np.histogram(data, bins = 200)\n",
      "hist = map(lambda x: x/N, hist)\n",
      "print sum(hist)\n",
      "width = 0.7 * (bins[1] - bins[0])\n",
      "center = (bins[:-1] + bins[1:]) / 2\n",
      "plt.bar(center, hist, align='center', width=width)\n",
      "\n",
      "x = range(-100, 100, 1)\n",
      "y = map(lambda x: sp.stats.norm.pdf(x, scale=std, loc=mu), x)\n",
      "plt.plot(x, y , 'red')\n",
      "#plt.show()\n"
     ],
     "language": "python",
     "metadata": {},
     "outputs": [
      {
       "output_type": "stream",
       "stream": "stdout",
       "text": [
        "0.18165142628\n",
        "46.9679031011\n",
        "1.0"
       ]
      },
      {
       "output_type": "stream",
       "stream": "stdout",
       "text": [
        "\n"
       ]
      },
      {
       "metadata": {},
       "output_type": "pyout",
       "prompt_number": 9,
       "text": [
        "[<matplotlib.lines.Line2D at 0x50b39b0>]"
       ]
      },
      {
       "metadata": {},
       "output_type": "display_data",
       "png": "[encoded data removed]",
       "text": [
        "<matplotlib.figure.Figure at 0xa49b3f0>"
       ]
      }
     ],
     "prompt_number": 9
    },
    {
     "cell_type": "heading",
     "level": 1,
     "metadata": {},
     "source": [
      "3"
     ]
    },
    {
     "cell_type": "code",
     "collapsed": false,
     "input": [
      "dataPath = 'plData\\\\DHSchapter3.mat'\n",
      "data = sio.loadmat(dataPath)\n",
      "w1 = data['patterns'][0]\n",
      "w2 = data['patterns'][1]\n",
      "w1"
     ],
     "language": "python",
     "metadata": {},
     "outputs": [
      {
       "metadata": {},
       "output_type": "pyout",
       "prompt_number": 62,
       "text": [
        "array([ 0.42 , -0.2  ,  1.3  ,  0.39 , -1.6  , -0.029, -0.23 ,  0.27 ,\n",
        "       -1.9  ,  0.87 , -0.4  , -0.31 ,  0.38 , -0.15 , -0.35 ,  0.17 ,\n",
        "       -0.011, -0.27 , -0.065, -0.12 ,  0.83 ,  1.1  , -0.44 ,  0.047,\n",
        "        0.28 , -0.39 ,  0.34 , -0.3  ,  1.1  ,  0.18 ])"
       ]
      }
     ],
     "prompt_number": 62
    },
    {
     "cell_type": "code",
     "collapsed": false,
     "input": [
      "##1\n",
      "def meanAndVar(data, dataname):\n",
      "    mean = np.mean(data, axis=0)\n",
      "    var = np.cov(data, rowvar=0)\n",
      "    print(\"{0}: {1}, {2}\".format(dataname, mean, var))\n",
      "    \n",
      "x1 = w1[0:10]\n",
      "x2 = w1[10:20]\n",
      "x3 = w1[20:30]\n",
      "\n",
      "##a\n",
      "meanAndVar(x1, 'x1')\n",
      "meanAndVar(x2, 'x2')\n",
      "meanAndVar(x3, 'x3')\n",
      "\n",
      "##a\n",
      "\n",
      "x12 = sp.c_[x1,x2]\n",
      "x13 = sp.c_[x1,x3]\n",
      "x23 = sp.c_[x2,x3]\n",
      "meanAndVar(x12, 'x12')\n",
      "meanAndVar(x23, 'x23')\n",
      "meanAndVar(x13, 'x13')\n",
      "\n",
      "##c\n",
      "x123 = sp.c_[x1,x2,x3]\n",
      "meanAndVar(x123, 'x123')\n",
      "\n",
      "##d\n",
      "mean = np.mean(x123, axis=0)\n",
      "var = np.cov(x123, rowvar=0) *(sp.eye(3,3))\n",
      "print(\"{0}: {1}, {2}\".format('diag', mean, var))"
     ],
     "language": "python",
     "metadata": {},
     "outputs": [
      {
       "output_type": "stream",
       "stream": "stdout",
       "text": [
        "x1: -0.0709, 1.00686365556\n",
        "x2: -0.1126, 0.0599176\n",
        "x3: 0.2747, 0.3354009\n",
        "x12: [-0.0709 -0.1126], [[ 1.00686366  0.08371851]\n",
        " [ 0.08371851  0.0599176 ]]\n",
        "x23: [-0.1126  0.2747], [[ 0.0599176  -0.07978642]\n",
        " [-0.07978642  0.3354009 ]]\n",
        "x13: [-0.0709  0.2747], [[ 1.00686366 -0.30662197]\n",
        " [-0.30662197  0.3354009 ]]\n",
        "x123: [-0.0709 -0.1126  0.2747], [[ 1.00686366  0.08371851 -0.30662197]\n",
        " [ 0.08371851  0.0599176  -0.07978642]\n",
        " [-0.30662197 -0.07978642  0.3354009 ]]\n",
        "[[ 0.42  -0.4    0.83 ]\n",
        " [-0.2   -0.31   1.1  ]\n",
        " [ 1.3    0.38  -0.44 ]\n",
        " [ 0.39  -0.15   0.047]\n",
        " [-1.6   -0.35   0.28 ]\n",
        " [-0.029  0.17  -0.39 ]\n",
        " [-0.23  -0.011  0.34 ]\n",
        " [ 0.27  -0.27  -0.3  ]\n",
        " [-1.9   -0.065  1.1  ]\n",
        " [ 0.87  -0.12   0.18 ]]\n",
        "diag: [-0.0709 -0.1126  0.2747], [[ 1.00686366  0.         -0.        ]\n",
        " [ 0.          0.0599176  -0.        ]\n",
        " [-0.         -0.          0.3354009 ]]\n"
       ]
      }
     ],
     "prompt_number": 61
    },
    {
     "cell_type": "code",
     "collapsed": false,
     "input": [
      "##2\n",
      "x2 = w2[10:20]\n"
     ],
     "language": "python",
     "metadata": {},
     "outputs": [
      {
       "metadata": {},
       "output_type": "pyout",
       "prompt_number": 56,
       "text": [
        "array([[ 1.,  0.,  0.],\n",
        "       [ 0.,  1.,  0.],\n",
        "       [ 0.,  0.,  1.]])"
       ]
      }
     ],
     "prompt_number": 56
    }
   ],
   "metadata": {}
  }
 ]
}