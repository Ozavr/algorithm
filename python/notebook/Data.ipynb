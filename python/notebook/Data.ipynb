{
 "metadata": {
  "name": "",
  "signature": "sha256:c3d38d579190b347b84375431b8bb07466cb44c3187089e9e4531b6904754942"
 },
 "nbformat": 3,
 "nbformat_minor": 0,
 "worksheets": [
  {
   "cells": [
    {
     "cell_type": "code",
     "collapsed": false,
     "input": [
      "%matplotlib inline\n",
      "import matplotlib.pyplot as plt\n",
      "import numpy as np\n",
      "import scipy as sp\n",
      "import pickle"
     ],
     "language": "python",
     "metadata": {},
     "outputs": [],
     "prompt_number": 2
    },
    {
     "cell_type": "heading",
     "level": 1,
     "metadata": {},
     "source": [
      "Synthetic Data"
     ]
    },
    {
     "cell_type": "code",
     "collapsed": false,
     "input": [
      "from scipy.stats import uniform\n",
      "from scipy.stats import norm \n",
      "N = 100\n",
      "M = 25\n",
      "# x = uniform.rvs(size=(N,M))\n",
      "# for a in x:\n",
      "#     a.sort()\n",
      "# y = sp.sin(2*sp.pi*x)+ norm.rvs(scale=0.3, size=(N,M))\n",
      "# with open('synthetic.dat', 'wb') as f:\n",
      "#     pickle.dump((x,y), f)\n",
      "\n",
      "with open('synthetic.dat', 'rb') as f:\n",
      "    x,y = pickle.load(f)\n",
      "sx = np.linspace(0,1,25)\n",
      "sy = sp.sin(2*sp.pi*sx)\n",
      "plt.plot(sx,sy)\n",
      "for i in range(1):\n",
      "    plt.plot(x[i],y[i], 'o', color='red')\n",
      "\n"
     ],
     "language": "python",
     "metadata": {},
     "outputs": [
      {
       "metadata": {},
       "output_type": "display_data",
       "png": "[encoded data removed]",
       "text": [
        "<matplotlib.figure.Figure at 0x70a6430>"
       ]
      }
     ],
     "prompt_number": 13
    }
   ],
   "metadata": {}
  }
 ]
}