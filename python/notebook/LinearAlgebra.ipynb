{
 "metadata": {
  "name": "",
  "signature": "sha256:3255d7275b6008af71a5ea06514b5198a21e9b0276712b46dece5d7aecf796cc"
 },
 "nbformat": 3,
 "nbformat_minor": 0,
 "worksheets": [
  {
   "cells": [
    {
     "cell_type": "markdown",
     "metadata": {},
     "source": [
      "$$\\frac{d}{dt}A^{-1}=-A^{-1}(\\frac{d}{dt}A)A^{-1}$$\n",
      "\n",
      "$$\\frac{d}{dt}A^k=\\dot{A}A^{k-1}+A\\dot{A}A^{k-2}+...+A^{k-1}\\dot{A},\\quad \\dot{A}=\\frac{d}{dt}A$$"
     ]
    }
   ],
   "metadata": {}
  }
 ]
}