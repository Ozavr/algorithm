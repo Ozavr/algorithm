{
 "metadata": {
  "name": "",
  "signature": "sha256:b5aa8c93ed20cc0f8c680293d6aea418fb0660a4dae886d3ddd97e1654487804"
 },
 "nbformat": 3,
 "nbformat_minor": 0,
 "worksheets": [
  {
   "cells": [
    {
     "cell_type": "markdown",
     "metadata": {},
     "source": [
      "$$\\frac{d}{dt}A^{-1}=-A^{-1}(\\frac{d}{dt}A)A^{-1}$$\n",
      "\n",
      "$$\\frac{d}{dt}A^k=\\dot{A}A^{k-1}+A\\dot{A}A^{k-2}+...+A^{k-1}\\dot{A},\\quad \\dot{A}=\\frac{d}{dt}A$$"
     ]
    },
    {
     "cell_type": "markdown",
     "metadata": {},
     "source": [
      "###The inverse of a partitioned matrix\n",
      "$$A = \\begin{bmatrix} A_{11} & A_{12} \\\\ A_{21} & A_{22} \\\\ \\end{bmatrix}$$\n",
      "\n",
      "$$$A^{-1} = \\begin{bmatrix} \n",
      "            (A_{11} - A_{12}A_{22}^{-1}A_{21})^{-1} & A_{11}^{-1} A_{12} (A_{21}A_{11}^{-1}A_{12} - A_{22})^{-1}\\\\\n",
      "            A_{22}^{-1}A_{21}(A_{12}A_{22}^{-1}A_{21} - A{11})^{-1} & (A_{22} - A_{21}A_{11}^{-1}A_{12})^{-1}\n",
      "            \\end{bmatrix}$$\n",
      "            \n",
      "###The Sherman-Morrison-Woodbury formula\n",
      "$$B = A + XRY$$\n",
      "\n",
      "$$B^{-1} = A^{-1} - A^{-1}X(R^{-1} + YA^{-1}X)^{-1}YA^{-1}$$"
     ]
    }
   ],
   "metadata": {}
  }
 ]
}