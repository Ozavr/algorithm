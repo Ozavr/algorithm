{
 "metadata": {
  "name": "",
  "signature": "sha256:eae60c4547fcf31c6f225701075d626b4a40df65724b2b08e2319861eb9d2425"
 },
 "nbformat": 3,
 "nbformat_minor": 0,
 "worksheets": [
  {
   "cells": [
    {
     "cell_type": "code",
     "collapsed": false,
     "input": [
      "%matplotlib inline\n",
      "import matplotlib.pyplot as plt\n",
      "import numpy as np\n",
      "import scipy as sp\n",
      "import scipy.io as sio\n",
      "from __future__ import division"
     ],
     "language": "python",
     "metadata": {},
     "outputs": [],
     "prompt_number": 81
    },
    {
     "cell_type": "heading",
     "level": 1,
     "metadata": {},
     "source": [
      "2"
     ]
    },
    {
     "cell_type": "code",
     "collapsed": false,
     "input": [
      "dataPath = 'plData\\\\DHSchapter2.mat'\n",
      "data = sio.loadmat(dataPath)\n",
      "data['patterns'].shape"
     ],
     "language": "python",
     "metadata": {},
     "outputs": [
      {
       "metadata": {},
       "output_type": "pyout",
       "prompt_number": 8,
       "text": [
        "(3, 30)"
       ]
      }
     ],
     "prompt_number": 8
    },
    {
     "cell_type": "code",
     "collapsed": false,
     "input": [
      "##1\n"
     ],
     "language": "python",
     "metadata": {},
     "outputs": []
    },
    {
     "cell_type": "code",
     "collapsed": false,
     "input": [
      "##5\n",
      "import random\n",
      "import math\n",
      "\n",
      "def genUniform(a, b, n):\n",
      "    for i in xrange(n):\n",
      "        yield random.uniform(a, b)\n",
      "        \n",
      "def genTotal(totalNum):\n",
      "    num = totalNum\n",
      "    while num > 0:\n",
      "        xi = random.uniform(-100, 100)\n",
      "        xj = random.uniform(-100, 100)\n",
      "        if xi > xj:\n",
      "            t = xi\n",
      "            xi = xj\n",
      "            xj = t\n",
      "        n = random.randint(1, 100)\n",
      "        if n < num:\n",
      "            num -= n\n",
      "        else:\n",
      "            n = num\n",
      "            num = 0\n",
      "        \n",
      "        for p in genUniform(xi, xj, n):\n",
      "            yield p\n",
      "\n",
      "N = 100000\n",
      "data = list(genTotal(N))\n",
      "mu = np.mean(data)\n",
      "std = np.std(data)\n",
      "print mu\n",
      "print std\n",
      "hist, bins = np.histogram(data, bins = 200)\n",
      "hist = map(lambda x: x/N, hist)\n",
      "print sum(hist)\n",
      "width = 0.7 * (bins[1] - bins[0])\n",
      "center = (bins[:-1] + bins[1:]) / 2\n",
      "plt.bar(center, hist, align='center', width=width)\n",
      "\n",
      "x = range(-100, 100, 1)\n",
      "y = map(lambda x: sp.stats.norm.pdf(x, scale=std, loc=mu), x)\n",
      "plt.plot(x, y , 'red')\n",
      "#plt.show()\n"
     ],
     "language": "python",
     "metadata": {},
     "outputs": [
      {
       "output_type": "stream",
       "stream": "stdout",
       "text": [
        "0.341661808925\n",
        "46.5532740802\n",
        "1.0\n"
       ]
      },
      {
       "metadata": {},
       "output_type": "pyout",
       "prompt_number": 97,
       "text": [
        "[<matplotlib.lines.Line2D at 0x13037e30>]"
       ]
      },
      {
       "metadata": {},
       "output_type": "display_data",
       "png": "[encoded data removed]",
       "text": [
        "<matplotlib.figure.Figure at 0x10b27870>"
       ]
      }
     ],
     "prompt_number": 97
    },
    {
     "cell_type": "code",
     "collapsed": false,
     "input": [
      "a = sp.stats.uniform.rvs(loc=-100, scale=200, size=100)\n",
      "a"
     ],
     "language": "python",
     "metadata": {},
     "outputs": [
      {
       "metadata": {},
       "output_type": "pyout",
       "prompt_number": 62,
       "text": [
        "array([ 59.82094962, -68.68222261, -81.52362865,  30.36853204,\n",
        "        71.87426992,  63.13179101,  70.7996379 , -29.65091553,\n",
        "        46.35766221, -31.044029  ,  43.76214179, -81.4637996 ,\n",
        "        49.96641884,   9.68032704, -89.43156713, -65.53318711,\n",
        "        43.01251065, -75.3873885 , -95.12671586,  93.10284325,\n",
        "        53.45726531, -90.53036996, -36.82959794, -60.97473362,\n",
        "        57.44224739,  43.61587719,  97.49196302,  71.14732727,\n",
        "       -70.59054301, -81.55964223, -75.77574311, -13.65434624,\n",
        "        35.72039912,  52.24300588,  70.84615925,  53.35842675,\n",
        "        46.07064052, -64.33405684,   0.26908189,  99.41504406,\n",
        "        80.94896332,  -2.63398951,  34.79231603,  35.29592603,\n",
        "       -45.12205496, -89.78752472,  59.55857339,  89.74043071,\n",
        "         0.2834669 ,  19.55466457, -13.74695346, -75.41279729,\n",
        "       -45.48279223,  67.62366896, -20.04506144,  77.43373218,\n",
        "       -67.90530188, -51.03035133, -19.83785283,  49.1332778 ,\n",
        "       -58.15852323,  61.50477893, -48.92867148,  69.34748096,\n",
        "        32.0324164 , -16.09648642,  72.03708422, -91.43848451,\n",
        "        98.82135469, -71.88070727,   1.99993857,  64.95445669,\n",
        "        86.77915136, -89.13800333,  39.65206362,  -9.12434508,\n",
        "        26.39996067, -32.85090746, -45.62603421,  69.70555636,\n",
        "        85.40875553,   9.6105978 ,  96.34960137,   3.92975462,\n",
        "         0.97954666,  42.59413367, -20.57902932,  67.47617829,\n",
        "        39.2597523 , -72.28737537, -54.1750041 ,  22.87446281,\n",
        "       -99.89583799,  61.05259529, -42.88567087,   0.84849868,\n",
        "        10.14784819,  76.8361    , -41.71147401, -17.72367203])"
       ]
      }
     ],
     "prompt_number": 62
    }
   ],
   "metadata": {}
  }
 ]
}