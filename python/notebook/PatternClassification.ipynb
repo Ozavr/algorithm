{
 "metadata": {
  "name": "",
  "signature": "sha256:aedebfb9b60606eb969743719692575c7c23ad8df4832312612f678100acb4fd"
 },
 "nbformat": 3,
 "nbformat_minor": 0,
 "worksheets": [
  {
   "cells": [
    {
     "cell_type": "code",
     "collapsed": false,
     "input": [
      "%matplotlib inline\n",
      "from pylab import *\n",
      "import matplotlib.pyplot as plt\n",
      "import numpy as np\n",
      "from scipy import *\n",
      "import scipy.io as sio\n",
      "from scipy import linalg\n",
      "from __future__ import division\n",
      "from mpl_toolkits.mplot3d import Axes3D"
     ],
     "language": "python",
     "metadata": {},
     "outputs": [],
     "prompt_number": 1
    },
    {
     "cell_type": "heading",
     "level": 1,
     "metadata": {},
     "source": [
      "2"
     ]
    },
    {
     "cell_type": "code",
     "collapsed": false,
     "input": [
      "dataPath = 'plData\\\\DHSchapter2.mat'\n",
      "data = sio.loadmat(dataPath)"
     ],
     "language": "python",
     "metadata": {},
     "outputs": [],
     "prompt_number": 3
    },
    {
     "cell_type": "code",
     "collapsed": false,
     "input": [
      "##1\n"
     ],
     "language": "python",
     "metadata": {},
     "outputs": [],
     "prompt_number": 4
    },
    {
     "cell_type": "code",
     "collapsed": false,
     "input": [
      "##5\n",
      "import random\n",
      "import math\n",
      "import scipy.stats\n",
      "def genUniform(a, b, n):\n",
      "    for i in xrange(n):\n",
      "        yield random.uniform(a, b)\n",
      "        \n",
      "def genTotal(totalNum):\n",
      "    num = totalNum\n",
      "    while num > 0:\n",
      "        xi = random.uniform(-100, 100)\n",
      "        xj = random.uniform(-100, 100)\n",
      "        if xi > xj:\n",
      "            t = xi\n",
      "            xi = xj\n",
      "            xj = t\n",
      "        n = random.randint(1, 100)\n",
      "        if n < num:\n",
      "            num -= n\n",
      "        else:\n",
      "            n = num\n",
      "            num = 0\n",
      "        \n",
      "        for p in genUniform(xi, xj, n):\n",
      "            yield p\n",
      "\n",
      "N = 1000000\n",
      "data = list(genTotal(N))\n",
      "mu = np.mean(data)\n",
      "std = np.std(data)\n",
      "print mu\n",
      "print std\n",
      "hist, bins = np.histogram(data, bins = 200)\n",
      "hist = map(lambda x: x/N, hist)\n",
      "print sum(hist)\n",
      "width = 0.7 * (bins[1] - bins[0])\n",
      "center = (bins[:-1] + bins[1:]) / 2\n",
      "plt.bar(center, hist, align='center', width=width)\n",
      "\n",
      "x = range(-100, 100, 1)\n",
      "y = map(lambda x: scipy.stats.norm.pdf(x, scale=std, loc=mu), x)\n",
      "plt.plot(x, y , 'red')\n",
      "#plt.show()\n"
     ],
     "language": "python",
     "metadata": {},
     "outputs": [
      {
       "output_type": "stream",
       "stream": "stdout",
       "text": [
        "-0.328558958779\n",
        "47.0827380217\n",
        "1.0"
       ]
      },
      {
       "output_type": "stream",
       "stream": "stdout",
       "text": [
        "\n"
       ]
      },
      {
       "metadata": {},
       "output_type": "pyout",
       "prompt_number": 5,
       "text": [
        "[<matplotlib.lines.Line2D at 0x52a3290>]"
       ]
      },
      {
       "metadata": {},
       "output_type": "display_data",
       "png": "[encoded data removed]",
       "text": [
        "<matplotlib.figure.Figure at 0x29f17b0>"
       ]
      }
     ],
     "prompt_number": 5
    },
    {
     "cell_type": "heading",
     "level": 1,
     "metadata": {},
     "source": [
      "3"
     ]
    },
    {
     "cell_type": "code",
     "collapsed": false,
     "input": [
      "dataPath = 'plData\\\\DHSchapter3.mat'\n",
      "data = sio.loadmat(dataPath)\n",
      "x1 = data['patterns'][0]\n",
      "x2 = data['patterns'][1]\n",
      "x3 = data['patterns'][2]\n",
      "w1 = c_[x1[0:10], x2[0:10], x3[0:10]]\n",
      "w2 = c_[x1[10:20], x2[10:20], x3[10:20]]\n",
      "w3 = c_[x1[20:30], x2[20:30], x3[20:30]]\n",
      "patterns = data['patterns']\n",
      "targets = data['targets']"
     ],
     "language": "python",
     "metadata": {},
     "outputs": [
      {
       "output_type": "stream",
       "stream": "stdout",
       "text": [
        "[[-0.4     0.58    0.089 ]\n",
        " [-0.31    0.27   -0.04  ]\n",
        " [ 0.38    0.055  -0.035 ]\n",
        " [-0.15    0.53    0.011 ]\n",
        " [-0.35    0.47    0.034 ]\n",
        " [ 0.17    0.69    0.1   ]\n",
        " [-0.011   0.55   -0.18  ]\n",
        " [-0.27    0.61    0.12  ]\n",
        " [-0.065   0.49    0.0012]\n",
        " [-0.12    0.054  -0.063 ]]\n"
       ]
      }
     ],
     "prompt_number": 13
    },
    {
     "cell_type": "code",
     "collapsed": false,
     "input": [
      "##1\n",
      "def meanAndVar(data, dataname):\n",
      "    mean = np.mean(data, axis=0)\n",
      "    var = np.cov(data, rowvar=0)\n",
      "    print(\"{0}: {1},\\n {2}\".format(dataname, mean, var))\n",
      "    \n",
      "x1 = data['patterns'][0][0:10]\n",
      "x2 = data['patterns'][1][0:10]\n",
      "x3 = data['patterns'][2][0:10]\n",
      "\n",
      "##a\n",
      "meanAndVar(x1, 'x1')\n",
      "meanAndVar(x2, 'x2')\n",
      "meanAndVar(x3, 'x3')\n",
      "\n",
      "##a\n",
      "\n",
      "x12 = scipy.c_[x1,x2]\n",
      "x13 = scipy.c_[x1,x3]\n",
      "x23 = scipy.c_[x2,x3]\n",
      "meanAndVar(x12, 'x12')\n",
      "meanAndVar(x23, 'x23')\n",
      "meanAndVar(x13, 'x13')\n",
      "\n",
      "##c\n",
      "x123 = scipy.c_[x1,x2,x3]\n",
      "meanAndVar(x123, 'x123')\n",
      "\n",
      "##d\n",
      "mean = np.mean(x123, axis=0)\n",
      "var = np.cov(x123, ddof=0, rowvar=0) * scipy.eye(3,3)\n",
      "print(\"{0}: {1},\\n {2}\".format('diag', mean, var))"
     ],
     "language": "python",
     "metadata": {},
     "outputs": [
      {
       "output_type": "stream",
       "stream": "stdout",
       "text": [
        "x1: -0.0709,\n",
        " 1.00686365556\n",
        "x2: -0.6047,\n",
        " 4.6674609\n",
        "x3: -0.911,\n",
        " 5.04661\n",
        "x12: [-0.0709 -0.6047],\n",
        " [[ 1.00686366  0.63086863]\n",
        " [ 0.63086863  4.6674609 ]]\n",
        "x23: [-0.6047 -0.911 ],\n",
        " [[ 4.6674609   0.81522478]\n",
        " [ 0.81522478  5.04661   ]]\n",
        "x13: [-0.0709 -0.911 ],\n",
        " [[ 1.00686366  0.43786678]\n",
        " [ 0.43786678  5.04661   ]]\n",
        "x123: [-0.0709 -0.6047 -0.911 ],\n",
        " [[ 1.00686366  0.63086863  0.43786678]\n",
        " [ 0.63086863  4.6674609   0.81522478]\n",
        " [ 0.43786678  0.81522478  5.04661   ]]\n",
        "diag: [-0.0709 -0.6047 -0.911 ],\n",
        " [[ 0.90617729  0.          0.        ]\n",
        " [ 0.          4.20071481  0.        ]\n",
        " [ 0.          0.          4.541949  ]]\n"
       ]
      }
     ],
     "prompt_number": 7
    },
    {
     "cell_type": "code",
     "collapsed": false,
     "input": [
      "def Gibbs(train_patterns, train_targets, test_patterns, Ndiv):\n",
      "    Ni, M = train_patterns.shape\n",
      "    Uclasses = scipy.unique(train_targets)\n",
      "    Nc = len(Uclasses)\n",
      "\n",
      "    mu = scipy.zeros((Nc, Ni, Ndiv))\n",
      "    sigma = scipy.zeros((Nc, Ni, Ni, Ndiv))\n",
      "\n",
      "    for i in range(Nc):\n",
      "        index = scipy.nonzero(train_targets==Uclasses[i])\n",
      "\n",
      "        min_range = train_patterns[:, index[1]].min(1)\n",
      "        max_range = train_patterns[:, index[1]].max(1)\n",
      "    \n",
      "        for j in range(Ni):\n",
      "            mu[i, j, :] = scipy.linspace(min_range[j], max_range[j], Ndiv)\n",
      "            sigma[i, j, j, :] = scipy.linspace(min_range[j], max_range[j], Ndiv)\n",
      "    \n",
      "    P_D_given_Theta = scipy.zeros((Nc, Ndiv, Ndiv))\n",
      "    X = train_patterns\n",
      "    \n",
      "    for i in range(Nc):\n",
      "        index = scipy.nonzero(train_targets == Uclasses[i])\n",
      "        x = X[:,  index[1]]\n",
      "\n",
      "        pD_given_theta = scipy.zeros((1, len(index[1])))\n",
      "        m = len(index[1])\n",
      "        \n",
      "        for j in range(Ndiv):\n",
      "            for k in range(Ndiv):\n",
      "                temp_mu = mu[i,:,j].squeeze()\n",
      "                temp_si = sigma[i,:,:,k].squeeze()\n",
      "                print ones((1,m)).shape\n",
      "                print temp_mu.shape\n",
      "                print dot(ones((1,m)), temp_mu)\n",
      "                pD_given_theta = 1 / ((2*pi*linalg.det(temp_si)) ** (Ni/2) * \\\n",
      "                                exp(-0.5*diag(dot((x-dot(ones((1,m)), temp_mu)), linalg.inv(temp_si), x-dot()) )))\n",
      "            \n",
      "Gibbs(patterns, targets, [], 20)\n",
      "\n",
      "b\n"
     ],
     "language": "python",
     "metadata": {},
     "outputs": [
      {
       "output_type": "stream",
       "stream": "stdout",
       "text": [
        "(1, 10)\n",
        "(3,)\n"
       ]
      },
      {
       "ename": "ValueError",
       "evalue": "matrices are not aligned",
       "output_type": "pyerr",
       "traceback": [
        "\u001b[1;31m---------------------------------------------------------------------------\u001b[0m\n\u001b[1;31mValueError\u001b[0m                                Traceback (most recent call last)",
        "\u001b[1;32m<ipython-input-8-6e0d61d33001>\u001b[0m in \u001b[0;36m<module>\u001b[1;34m()\u001b[0m\n\u001b[0;32m     36\u001b[0m                 \u001b[0mpD_given_theta\u001b[0m \u001b[1;33m=\u001b[0m \u001b[1;36m1\u001b[0m \u001b[1;33m/\u001b[0m \u001b[1;33m(\u001b[0m\u001b[1;33m(\u001b[0m\u001b[1;36m2\u001b[0m\u001b[1;33m*\u001b[0m\u001b[0mpi\u001b[0m\u001b[1;33m*\u001b[0m\u001b[0mlinalg\u001b[0m\u001b[1;33m.\u001b[0m\u001b[0mdet\u001b[0m\u001b[1;33m(\u001b[0m\u001b[0mtemp_si\u001b[0m\u001b[1;33m)\u001b[0m\u001b[1;33m)\u001b[0m \u001b[1;33m**\u001b[0m \u001b[1;33m(\u001b[0m\u001b[0mNi\u001b[0m\u001b[1;33m/\u001b[0m\u001b[1;36m2\u001b[0m\u001b[1;33m)\u001b[0m \u001b[1;33m*\u001b[0m                                 \u001b[0mexp\u001b[0m\u001b[1;33m(\u001b[0m\u001b[1;33m-\u001b[0m\u001b[1;36m0.5\u001b[0m\u001b[1;33m*\u001b[0m\u001b[0mdiag\u001b[0m\u001b[1;33m(\u001b[0m\u001b[0mdot\u001b[0m\u001b[1;33m(\u001b[0m\u001b[1;33m(\u001b[0m\u001b[0mx\u001b[0m\u001b[1;33m-\u001b[0m\u001b[0mdot\u001b[0m\u001b[1;33m(\u001b[0m\u001b[0mones\u001b[0m\u001b[1;33m(\u001b[0m\u001b[1;33m(\u001b[0m\u001b[1;36m1\u001b[0m\u001b[1;33m,\u001b[0m\u001b[0mm\u001b[0m\u001b[1;33m)\u001b[0m\u001b[1;33m)\u001b[0m\u001b[1;33m,\u001b[0m \u001b[0mtemp_mu\u001b[0m\u001b[1;33m)\u001b[0m\u001b[1;33m)\u001b[0m\u001b[1;33m,\u001b[0m \u001b[0mlinalg\u001b[0m\u001b[1;33m.\u001b[0m\u001b[0minv\u001b[0m\u001b[1;33m(\u001b[0m\u001b[0mtemp_si\u001b[0m\u001b[1;33m)\u001b[0m\u001b[1;33m,\u001b[0m \u001b[0mx\u001b[0m\u001b[1;33m-\u001b[0m\u001b[0mdot\u001b[0m\u001b[1;33m(\u001b[0m\u001b[1;33m)\u001b[0m\u001b[1;33m)\u001b[0m \u001b[1;33m)\u001b[0m\u001b[1;33m)\u001b[0m\u001b[1;33m)\u001b[0m\u001b[1;33m\u001b[0m\u001b[0m\n\u001b[0;32m     37\u001b[0m \u001b[1;33m\u001b[0m\u001b[0m\n\u001b[1;32m---> 38\u001b[1;33m \u001b[0mGibbs\u001b[0m\u001b[1;33m(\u001b[0m\u001b[0mpatterns\u001b[0m\u001b[1;33m,\u001b[0m \u001b[0mtargets\u001b[0m\u001b[1;33m,\u001b[0m \u001b[1;33m[\u001b[0m\u001b[1;33m]\u001b[0m\u001b[1;33m,\u001b[0m \u001b[1;36m20\u001b[0m\u001b[1;33m)\u001b[0m\u001b[1;33m\u001b[0m\u001b[0m\n\u001b[0m\u001b[0;32m     39\u001b[0m \u001b[1;33m\u001b[0m\u001b[0m\n\u001b[0;32m     40\u001b[0m \u001b[0mb\u001b[0m\u001b[1;33m\u001b[0m\u001b[0m\n",
        "\u001b[1;32m<ipython-input-8-6e0d61d33001>\u001b[0m in \u001b[0;36mGibbs\u001b[1;34m(train_patterns, train_targets, test_patterns, Ndiv)\u001b[0m\n\u001b[0;32m     33\u001b[0m                 \u001b[1;32mprint\u001b[0m \u001b[0mones\u001b[0m\u001b[1;33m(\u001b[0m\u001b[1;33m(\u001b[0m\u001b[1;36m1\u001b[0m\u001b[1;33m,\u001b[0m\u001b[0mm\u001b[0m\u001b[1;33m)\u001b[0m\u001b[1;33m)\u001b[0m\u001b[1;33m.\u001b[0m\u001b[0mshape\u001b[0m\u001b[1;33m\u001b[0m\u001b[0m\n\u001b[0;32m     34\u001b[0m                 \u001b[1;32mprint\u001b[0m \u001b[0mtemp_mu\u001b[0m\u001b[1;33m.\u001b[0m\u001b[0mshape\u001b[0m\u001b[1;33m\u001b[0m\u001b[0m\n\u001b[1;32m---> 35\u001b[1;33m                 \u001b[1;32mprint\u001b[0m \u001b[0mdot\u001b[0m\u001b[1;33m(\u001b[0m\u001b[0mones\u001b[0m\u001b[1;33m(\u001b[0m\u001b[1;33m(\u001b[0m\u001b[1;36m1\u001b[0m\u001b[1;33m,\u001b[0m\u001b[0mm\u001b[0m\u001b[1;33m)\u001b[0m\u001b[1;33m)\u001b[0m\u001b[1;33m,\u001b[0m \u001b[0mtemp_mu\u001b[0m\u001b[1;33m)\u001b[0m\u001b[1;33m\u001b[0m\u001b[0m\n\u001b[0m\u001b[0;32m     36\u001b[0m                 \u001b[0mpD_given_theta\u001b[0m \u001b[1;33m=\u001b[0m \u001b[1;36m1\u001b[0m \u001b[1;33m/\u001b[0m \u001b[1;33m(\u001b[0m\u001b[1;33m(\u001b[0m\u001b[1;36m2\u001b[0m\u001b[1;33m*\u001b[0m\u001b[0mpi\u001b[0m\u001b[1;33m*\u001b[0m\u001b[0mlinalg\u001b[0m\u001b[1;33m.\u001b[0m\u001b[0mdet\u001b[0m\u001b[1;33m(\u001b[0m\u001b[0mtemp_si\u001b[0m\u001b[1;33m)\u001b[0m\u001b[1;33m)\u001b[0m \u001b[1;33m**\u001b[0m \u001b[1;33m(\u001b[0m\u001b[0mNi\u001b[0m\u001b[1;33m/\u001b[0m\u001b[1;36m2\u001b[0m\u001b[1;33m)\u001b[0m \u001b[1;33m*\u001b[0m                                 \u001b[0mexp\u001b[0m\u001b[1;33m(\u001b[0m\u001b[1;33m-\u001b[0m\u001b[1;36m0.5\u001b[0m\u001b[1;33m*\u001b[0m\u001b[0mdiag\u001b[0m\u001b[1;33m(\u001b[0m\u001b[0mdot\u001b[0m\u001b[1;33m(\u001b[0m\u001b[1;33m(\u001b[0m\u001b[0mx\u001b[0m\u001b[1;33m-\u001b[0m\u001b[0mdot\u001b[0m\u001b[1;33m(\u001b[0m\u001b[0mones\u001b[0m\u001b[1;33m(\u001b[0m\u001b[1;33m(\u001b[0m\u001b[1;36m1\u001b[0m\u001b[1;33m,\u001b[0m\u001b[0mm\u001b[0m\u001b[1;33m)\u001b[0m\u001b[1;33m)\u001b[0m\u001b[1;33m,\u001b[0m \u001b[0mtemp_mu\u001b[0m\u001b[1;33m)\u001b[0m\u001b[1;33m)\u001b[0m\u001b[1;33m,\u001b[0m \u001b[0mlinalg\u001b[0m\u001b[1;33m.\u001b[0m\u001b[0minv\u001b[0m\u001b[1;33m(\u001b[0m\u001b[0mtemp_si\u001b[0m\u001b[1;33m)\u001b[0m\u001b[1;33m,\u001b[0m \u001b[0mx\u001b[0m\u001b[1;33m-\u001b[0m\u001b[0mdot\u001b[0m\u001b[1;33m(\u001b[0m\u001b[1;33m)\u001b[0m\u001b[1;33m)\u001b[0m \u001b[1;33m)\u001b[0m\u001b[1;33m)\u001b[0m\u001b[1;33m)\u001b[0m\u001b[1;33m\u001b[0m\u001b[0m\n\u001b[0;32m     37\u001b[0m \u001b[1;33m\u001b[0m\u001b[0m\n",
        "\u001b[1;31mValueError\u001b[0m: matrices are not aligned"
       ]
      }
     ],
     "prompt_number": 8
    },
    {
     "cell_type": "code",
     "collapsed": false,
     "input": [
      "##fisher\n",
      "m0 = mean(w2,0)\n",
      "m1 = mean(w3,0)\n",
      "\n",
      "s0 = cov(w2.T, bias=1)\n",
      "s1 = cov(w3.T, bias=1)\n",
      "sw = s0 + s1\n",
      "w = linalg.inv(sw).dot(m0 - m1)\n",
      "\n",
      "fw1 = dot(w2, w)\n",
      "fw2 = dot(w3, w)\n",
      "\n",
      "hist, bins = np.histogram(fw1)\n",
      "width = 0.7 * (bins[1] - bins[0])\n",
      "center = (bins[:-1] + bins[1:]) / 2\n",
      "plt.bar(center, hist, align='center', width=width)\n",
      "\n",
      "hist, bins = np.histogram(fw2)\n",
      "width = 0.7 * (bins[1] - bins[0])\n",
      "center = (bins[:-1] + bins[1:]) / 2\n",
      "plt.bar(center, hist, align='center', width=width, color = 'r')\n",
      "# fig = figure()\n",
      "# ax = Axes3D(fig)\n",
      "\n",
      "# ax.plot(w2[:,0], w2[:,1], w2[:,2], 'o')\n",
      "# ax.plot(w3[:,0], w3[:,1], w3[:,2], 'x')\n",
      "# ax.plot_surface(w[0], w[1], w[2])\n",
      "# # savefig('../figures/plot3d_ex.png',dpi=48)\n",
      "\n",
      "# show()"
     ],
     "language": "python",
     "metadata": {},
     "outputs": [
      {
       "metadata": {},
       "output_type": "pyout",
       "prompt_number": 68,
       "text": [
        "<Container object of 10 artists>"
       ]
      },
      {
       "metadata": {},
       "output_type": "display_data",
       "png": "[encoded data removed]",
       "text": [
        "<matplotlib.figure.Figure at 0xad65490>"
       ]
      }
     ],
     "prompt_number": 68
    },
    {
     "cell_type": "code",
     "collapsed": false,
     "input": [
      "from ml.mlTool import *\n",
      "from scipy import stats\n",
      "mu1 = np.array([1,3])\n",
      "mu2 = np.array([3,1])\n",
      "sigma = np.array([[4, 0.01],[0.01, 0.1]])\n",
      "x1 = stats.multivariate_normal.rvs(mean=mu1, cov = sigma, size=100)\n",
      "x2 = stats.multivariate_normal.rvs(mean=mu2, cov = sigma, size=100)\n",
      "plt.plot(x1[:,0], x1[:,1], 'o', color='r')\n",
      "plt.plot(x2[:,0], x2[:,1], 'x', color='b')\n",
      "ytrain = r_[ones((100,1)), ones((100,1))*2]\n",
      "xtrain = r_[x1, x2]\n",
      "\n",
      "w,z = fisherLdaFit(xtrain, ytrain)\n",
      "\n",
      "fw1 = dot(x1, w)\n",
      "fw2 = dot(x2, w)\n",
      "plt.figure()\n",
      "hist, bins = np.histogram(fw1)\n",
      "center = (bins[:-1] + bins[1:]) / 2\n",
      "plt.bar(center, hist, align='center')\n",
      "\n",
      "hist, bins = np.histogram(fw2)\n",
      "center = (bins[:-1] + bins[1:]) / 2\n",
      "plt.bar(center, hist, align='center', color = 'r')"
     ],
     "language": "python",
     "metadata": {},
     "outputs": [
      {
       "metadata": {},
       "output_type": "pyout",
       "prompt_number": 10,
       "text": [
        "<Container object of 10 artists>"
       ]
      },
      {
       "metadata": {},
       "output_type": "display_data",
       "png": "[encoded data removed]",
       "text": [
        "<matplotlib.figure.Figure at 0xce675f0>"
       ]
      },
      {
       "metadata": {},
       "output_type": "display_data",
       "png": "[encoded data removed]",
       "text": [
        "<matplotlib.figure.Figure at 0x7ec9730>"
       ]
      }
     ],
     "prompt_number": 10
    },
    {
     "cell_type": "code",
     "collapsed": false,
     "input": [],
     "language": "python",
     "metadata": {},
     "outputs": []
    }
   ],
   "metadata": {}
  }
 ]
}