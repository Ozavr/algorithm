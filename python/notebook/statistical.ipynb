{
 "metadata": {
  "name": "",
  "signature": "sha256:e298fb4de923c08ba13e4a348535f09d205468404d0c9cccfd4c1ccc1467a9b2"
 },
 "nbformat": 3,
 "nbformat_minor": 0,
 "worksheets": [
  {
   "cells": [
    {
     "cell_type": "code",
     "collapsed": false,
     "input": [
      "%matplotlib inline\n",
      "import matplotlib.pyplot as plt\n",
      "import numpy as np\n",
      "import sympy\n",
      "from numpy import random\n",
      "from sympy import *\n",
      "from scipy import *\n",
      "init_session(use_unicode=False)"
     ],
     "language": "python",
     "metadata": {},
     "outputs": [
      {
       "output_type": "stream",
       "stream": "stdout",
       "text": [
        "IPython console for SymPy 0.7.5 (Python 2.7.7-32-bit) (ground types: python)\n",
        "\n",
        "These commands were executed:\n",
        ">>> from __future__ import division\n",
        ">>> from sympy import *\n",
        ">>> x, y, z, t = symbols('x y z t')\n",
        ">>> k, m, n = symbols('k m n', integer=True)\n",
        ">>> f, g, h = symbols('f g h', cls=Function)\n",
        "\n",
        "Documentation can be found at http://www.sympy.org\n"
       ]
      },
      {
       "output_type": "stream",
       "stream": "stderr",
       "text": [
        "WARNING: Hook shutdown_hook is deprecated. Use the atexit module instead.\n"
       ]
      }
     ],
     "prompt_number": 1
    },
    {
     "cell_type": "code",
     "collapsed": false,
     "input": [
      "%%javascript\n",
      "MathJax.Hub.Config({\n",
      "  TeX: { equationNumbers: { autoNumber: \"AMS\" } }\n",
      "});"
     ],
     "language": "python",
     "metadata": {},
     "outputs": [
      {
       "javascript": [
        "MathJax.Hub.Config({\n",
        "  TeX: { equationNumbers: { autoNumber: \"AMS\" } }\n",
        "});"
       ],
       "metadata": {},
       "output_type": "display_data",
       "text": [
        "<IPython.core.display.Javascript at 0x37957b0>"
       ]
      }
     ],
     "prompt_number": 1
    },
    {
     "cell_type": "heading",
     "level": 3,
     "metadata": {},
     "source": [
      "Gaussian distribution"
     ]
    },
    {
     "cell_type": "markdown",
     "metadata": {},
     "source": [
      "$$\\mathcal{N}(x|\\mu, \\sigma^2) = \\frac{1}{(2\\pi\\sigma^2)^{1/2}}exp\\{-\\frac{1}{2\\sigma^2}(x-\\mu)^2\\}$$"
     ]
    },
    {
     "cell_type": "code",
     "collapsed": false,
     "input": [
      "mu = sympy.abc.mu\n",
      "sigma = sympy.abc.sigma\n",
      "expr = exp(-1/(2*sigma**2)*(x-mu)**2)\n",
      "expr"
     ],
     "language": "python",
     "metadata": {},
     "outputs": [
      {
       "latex": [
        "$$e^{- \\frac{\\left(- \\mu + x\\right)^{2}}{2 \\sigma^{2}}}$$"
       ],
       "metadata": {},
       "output_type": "pyout",
       "png": "[encoded data removed]",
       "prompt_number": 21,
       "text": [
        "          2 \n",
        " -(-\u03bc + x)  \n",
        " \u2500\u2500\u2500\u2500\u2500\u2500\u2500\u2500\u2500\u2500\u2500\n",
        "        2   \n",
        "     2\u22c5\u03c3    \n",
        "\u212f           "
       ]
      }
     ],
     "prompt_number": 21
    },
    {
     "cell_type": "heading",
     "level": 3,
     "metadata": {},
     "source": [
      "Gamma distribution"
     ]
    },
    {
     "cell_type": "code",
     "collapsed": false,
     "input": [
      "Sum(binomial(y,x)*p**x*(1-p)**(y-x)*exp(-mu)*mu**y/factorial(y),(y,x,oo))\n"
     ],
     "language": "python",
     "metadata": {},
     "outputs": [
      {
       "latex": [
        "$$\\sum_{y=x}^{\\infty} \\frac{\\mu^{y} p^{x} {\\binom{y}{x}}}{e^{\\mu} y!} \\left(- p + 1\\right)^{- x + y}$$"
       ],
       "metadata": {},
       "output_type": "pyout",
       "png": "[encoded data removed]",
       "prompt_number": 6,
       "text": [
        "  oo                                \n",
        "____                                \n",
        "\\   `                               \n",
        " \\      y  x         -x + y  -mu /y\\\n",
        "  \\   mu *p *(-p + 1)      *e   *| |\n",
        "   )                             \\x/\n",
        "  /   ------------------------------\n",
        " /                  y!              \n",
        "/___,                               \n",
        "y = x                               "
       ]
      }
     ],
     "prompt_number": 6
    },
    {
     "cell_type": "heading",
     "level": 2,
     "metadata": {},
     "source": [
      "Multiple random variables"
     ]
    },
    {
     "cell_type": "markdown",
     "metadata": {},
     "source": []
    },
    {
     "cell_type": "code",
     "collapsed": false,
     "input": [
      "x,y = symbols(\"x y\", integer=True, positive=True)\n",
      "p = symbols(\"p\", positive=True)\n",
      "mu = symbols(\"mu\", positive=True)\n",
      "simplify(Sum(binomial(y,x)*p**x*(1-p)**(y-x)*exp(-mu)*mu**y/factorial(y),(y,x,oo)).doit())"
     ],
     "language": "python",
     "metadata": {},
     "outputs": [
      {
       "latex": [
        "$$\\frac{\\left(\\mu p\\right)^{x}}{e^{\\mu p} x!}$$"
       ],
       "metadata": {},
       "output_type": "pyout",
       "png": "[encoded data removed]",
       "prompt_number": 5,
       "text": [
        "      x  -mu*p\n",
        "(mu*p) *e     \n",
        "--------------\n",
        "      x!      "
       ]
      }
     ],
     "prompt_number": 5
    },
    {
     "cell_type": "markdown",
     "metadata": {},
     "source": [
      "##Bootstrap"
     ]
    },
    {
     "cell_type": "code",
     "collapsed": false,
     "input": [
      "data = []\n",
      "with open('nerve.dat') as f:\n",
      "    for l in f:\n",
      "        data += map(float, l.split())\n",
      "d = np.array(data, np.float)\n",
      "Tboot = []\n",
      "N = len(d)\n",
      "B = 1000\n",
      "for i in xrange(B):\n",
      "    xstar = np.array(random.choice(d, N))\n",
      "    nerveMean = mean(xstar)\n",
      "    stdMean = std(xstar)\n",
      "    theta = mean((xstar-nerveMean) **3) / stdMean**3\n",
      "    Tboot.append(theta)\n",
      "\n",
      "print std(Tboot)"
     ],
     "language": "python",
     "metadata": {},
     "outputs": [
      {
       "output_type": "stream",
       "stream": "stdout",
       "text": [
        "0.164510590079\n"
       ]
      }
     ],
     "prompt_number": 13
    }
   ],
   "metadata": {}
  }
 ]
}