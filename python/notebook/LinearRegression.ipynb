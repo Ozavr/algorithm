{
 "metadata": {
  "name": "",
  "signature": "sha256:ca4d83f162ba0c04b7ca99ee6fe6fbfc712e90ef11553cf4874eb020c58dfdfa"
 },
 "nbformat": 3,
 "nbformat_minor": 0,
 "worksheets": [
  {
   "cells": [
    {
     "cell_type": "code",
     "collapsed": false,
     "input": [
      "%%javascript\n",
      "MathJax.Hub.Config({\n",
      "  TeX: { equationNumbers: { autoNumber: \"AMS\" } }\n",
      "});"
     ],
     "language": "python",
     "metadata": {},
     "outputs": [
      {
       "javascript": [
        "MathJax.Hub.Config({\n",
        "  TeX: { equationNumbers: { autoNumber: \"AMS\" } }\n",
        "});"
       ],
       "metadata": {},
       "output_type": "display_data",
       "text": [
        "<IPython.core.display.Javascript at 0x385d7b0>"
       ]
      }
     ],
     "prompt_number": 1
    },
    {
     "cell_type": "markdown",
     "metadata": {},
     "source": [
      "$X^t = (X_1,X_2...X_p)$\n",
      "\n",
      "The linear regression model has the form\n",
      "\n",
      "$$f(X)=\\beta_0+\\sum^{p}_{j=1}\\mathbf{X}_j\\beta_j$$\n",
      "\n",
      "Least squares\n",
      "\n",
      "$$\\begin{align*}\n",
      "RSS(\\beta) &=\\sum_N^{i=1}(y_i-f(x_i))^2\\\\\n",
      "&=\\sum_{i=1}^N(y_i-\\beta_0-\\sum_{j=1}^px_{ij}\\beta_j)^2\\\\\n",
      "&=(\\mathbf{y}-\\mathbf{X}\\beta)^T(\\mathbf{y}-\\mathbf{X}\\beta)\n",
      "\\end{align*}$$\n",
      "\n",
      "Differentiating with respect to $\\beta$ we obtain\n",
      "$$\\mathbf{X}^T(\\mathbf{y}-\\mathbf{X}\\beta) = 0$$\n",
      "\n",
      "$$\\widehat\\beta=\\mathbf{(X^TX)^{-1}X^Ty}$$"
     ]
    },
    {
     "cell_type": "heading",
     "level": 1,
     "metadata": {},
     "source": [
      "PRML"
     ]
    }
   ],
   "metadata": {}
  }
 ]
}