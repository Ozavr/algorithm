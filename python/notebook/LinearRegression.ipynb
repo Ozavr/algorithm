{
 "metadata": {
  "name": "",
  "signature": "sha256:abb98eaff04dfa9448dc3ad2c77d9920e732e0288a538c7ea73366584451f735"
 },
 "nbformat": 3,
 "nbformat_minor": 0,
 "worksheets": [
  {
   "cells": [
    {
     "cell_type": "code",
     "collapsed": false,
     "input": [
      "%%javascript\n",
      "MathJax.Hub.Config({\n",
      "  TeX: { equationNumbers: { autoNumber: \"AMS\" } }\n",
      "});"
     ],
     "language": "python",
     "metadata": {},
     "outputs": [
      {
       "javascript": [
        "MathJax.Hub.Config({\n",
        "  TeX: { equationNumbers: { autoNumber: \"AMS\" } }\n",
        "});"
       ],
       "metadata": {},
       "output_type": "display_data",
       "text": [
        "<IPython.core.display.Javascript at 0x385d7b0>"
       ]
      }
     ],
     "prompt_number": 1
    },
    {
     "cell_type": "code",
     "collapsed": false,
     "input": [
      "%matplotlib inline\n",
      "import matplotlib.pyplot as plt\n",
      "import numpy as np\n",
      "import scipy as sp\n",
      "from scipy import linalg\n",
      "import pickle"
     ],
     "language": "python",
     "metadata": {},
     "outputs": [],
     "prompt_number": 8
    },
    {
     "cell_type": "markdown",
     "metadata": {},
     "source": [
      "$X^t = (X_1,X_2...X_p)$\n",
      "\n",
      "The linear regression model has the form\n",
      "\n",
      "$$f(X)=\\beta_0+\\sum^{p}_{j=1}\\mathbf{X}_j\\beta_j$$\n",
      "\n",
      "Least squares\n",
      "\n",
      "$$\\begin{align*}\n",
      "RSS(\\beta) &=\\sum_N^{i=1}(y_i-f(x_i))^2\\\\\n",
      "&=\\sum_{i=1}^N(y_i-\\beta_0-\\sum_{j=1}^px_{ij}\\beta_j)^2\\\\\n",
      "&=(\\mathbf{y}-\\mathbf{X}\\beta)^T(\\mathbf{y}-\\mathbf{X}\\beta)\n",
      "\\end{align*}$$\n",
      "\n",
      "Differentiating with respect to $\\beta$ we obtain\n",
      "$$\\mathbf{X}^T(\\mathbf{y}-\\mathbf{X}\\beta) = 0$$\n",
      "\n",
      "$$\\widehat\\beta=\\mathbf{(X^TX)^{-1}X^Ty}$$"
     ]
    },
    {
     "cell_type": "code",
     "collapsed": false,
     "input": [
      "def lineRegress(X, t, lambd = 0):\n",
      "    if len(X.shape) == 2:\n",
      "        N, M = X.shape\n",
      "    else:\n",
      "        N = X.shape[0]\n",
      "        M = 1\n",
      "    return np.dot(t,linalg.inv(X.T.dot(X) + np.eye(M)*lambd).dot(X.T))\n"
     ],
     "language": "python",
     "metadata": {},
     "outputs": [],
     "prompt_number": 6
    },
    {
     "cell_type": "heading",
     "level": 1,
     "metadata": {},
     "source": [
      "PRML"
     ]
    },
    {
     "cell_type": "code",
     "collapsed": false,
     "input": [
      "with open('synthetic.dat', 'rb') as f:\n",
      "    allX, allY = pickle.load(f)\n",
      "\n",
      "sx = np.linspace(0,1,25)\n",
      "sy = sp.sin(2*sp.pi*sx)\n",
      "plt.plot(sx,sy)\n",
      "tx = sp.c_[[sx ** i for i in xrange(50)]]\n",
      "for i in range(1):\n",
      "    x = allX[1]\n",
      "    Y = allY[1]\n",
      "\n",
      "    X = sp.c_[[x ** i for i in xrange(50)]]\n",
      "    beta = lineRegress(X,Y,0.03)\n",
      "\n",
      "    ##TEST  \n",
      "    ty = np.dot(beta, tx)\n",
      "    plt.plot(sx,ty, 'red')\n"
     ],
     "language": "python",
     "metadata": {},
     "outputs": [
      {
       "metadata": {},
       "output_type": "display_data",
       "png": "[encoded data removed]",
       "text": [
        "<matplotlib.figure.Figure at 0x7813e10>"
       ]
      }
     ],
     "prompt_number": 10
    },
    {
     "cell_type": "code",
     "collapsed": false,
     "input": [],
     "language": "python",
     "metadata": {},
     "outputs": []
    },
    {
     "cell_type": "heading",
     "level": 1,
     "metadata": {},
     "source": [
      "ISRS"
     ]
    },
    {
     "cell_type": "code",
     "collapsed": false,
     "input": [
      "# %debug\n",
      "# def read_array(filename, dtype, separator=','):\n",
      "#     \"\"\" Read a file with an arbitrary number of columns.\n",
      "#         The type of data in each column is arbitrary\n",
      "#         It will be cast to the given dtype at runtime\n",
      "#     \"\"\"\n",
      "#     cast = np.cast\n",
      "#     data = [[] for dummy in xrange(len(dtype))]\n",
      "#     for line in open(filename, 'r'):\n",
      "#         fields = line.strip().split(separator)\n",
      "#         for i, number in enumerate(fields):\n",
      "#             data[i].append(number)\n",
      "#     for i in xrange(len(dtype)):\n",
      "#         data[i] = cast[dtype[i]](data[i])\n",
      "#     return N.rec.array(data, dtype=dtype)\n",
      "                       \n",
      "# mydescr = np.dtype([ ('TV', 'float32'), ('Radio', 'float32'), ('Newspaper', 'float32'), ('Sales', 'float32')])\n",
      "# myrecarray = read_array('Advertising.csv', mydescr)\n",
      "            \n"
     ],
     "language": "python",
     "metadata": {},
     "outputs": []
    },
    {
     "cell_type": "code",
     "collapsed": false,
     "input": [
      "sp.exp(-2.4)"
     ],
     "language": "python",
     "metadata": {},
     "outputs": []
    }
   ],
   "metadata": {}
  }
 ]
}