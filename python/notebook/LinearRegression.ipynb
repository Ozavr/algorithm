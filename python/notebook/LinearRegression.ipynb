{
 "metadata": {
  "name": "",
  "signature": "sha256:2c042adba728cebb827a44d538fa24dfbaf5c0387a284e5a1796050c73e87797"
 },
 "nbformat": 3,
 "nbformat_minor": 0,
 "worksheets": [
  {
   "cells": [
    {
     "cell_type": "code",
     "collapsed": false,
     "input": [
      "%%javascript\n",
      "MathJax.Hub.Config({\n",
      "  TeX: { equationNumbers: { autoNumber: \"AMS\" } }\n",
      "});"
     ],
     "language": "python",
     "metadata": {},
     "outputs": [
      {
       "javascript": [
        "MathJax.Hub.Config({\n",
        "  TeX: { equationNumbers: { autoNumber: \"AMS\" } }\n",
        "});"
       ],
       "metadata": {},
       "output_type": "display_data",
       "text": [
        "<IPython.core.display.Javascript at 0x29b4930>"
       ]
      }
     ],
     "prompt_number": 2
    },
    {
     "cell_type": "code",
     "collapsed": false,
     "input": [
      "%matplotlib inline\n",
      "import matplotlib.pyplot as plt\n",
      "import numpy as np\n",
      "import scipy as sp\n",
      "import pickle"
     ],
     "language": "python",
     "metadata": {},
     "outputs": [],
     "prompt_number": 3
    },
    {
     "cell_type": "markdown",
     "metadata": {},
     "source": [
      "$X^t = (X_1,X_2...X_p)$\n",
      "\n",
      "The linear regression model has the form\n",
      "\n",
      "$$f(X)=\\beta_0+\\sum^{p}_{j=1}\\mathbf{X}_j\\beta_j$$\n",
      "\n",
      "Least squares\n",
      "\n",
      "$$\\begin{align*}\n",
      "RSS(\\beta) &=\\sum_N^{i=1}(y_i-f(x_i))^2\\\\\n",
      "&=\\sum_{i=1}^N(y_i-\\beta_0-\\sum_{j=1}^px_{ij}\\beta_j)^2\\\\\n",
      "&=(\\mathbf{y}-\\mathbf{X}\\beta)^T(\\mathbf{y}-\\mathbf{X}\\beta)\n",
      "\\end{align*}$$\n",
      "\n",
      "Differentiating with respect to $\\beta$ we obtain\n",
      "$$\\mathbf{X}^T(\\mathbf{y}-\\mathbf{X}\\beta) = 0$$\n",
      "\n",
      "$$\\widehat\\beta=\\mathbf{(X^TX)^{-1}X^Ty}$$"
     ]
    },
    {
     "cell_type": "heading",
     "level": 1,
     "metadata": {},
     "source": [
      "PRML"
     ]
    },
    {
     "cell_type": "heading",
     "level": 1,
     "metadata": {},
     "source": [
      "ISRS"
     ]
    },
    {
     "cell_type": "code",
     "collapsed": false,
     "input": [
      "%debug\n",
      "def read_array(filename, dtype, separator=','):\n",
      "    \"\"\" Read a file with an arbitrary number of columns.\n",
      "        The type of data in each column is arbitrary\n",
      "        It will be cast to the given dtype at runtime\n",
      "    \"\"\"\n",
      "    cast = np.cast\n",
      "    data = [[] for dummy in xrange(len(dtype))]\n",
      "    for line in open(filename, 'r'):\n",
      "        fields = line.strip().split(separator)\n",
      "        for i, number in enumerate(fields):\n",
      "            data[i].append(number)\n",
      "    for i in xrange(len(dtype)):\n",
      "        data[i] = cast[dtype[i]](data[i])\n",
      "    return N.rec.array(data, dtype=dtype)\n",
      "                       \n",
      "mydescr = np.dtype([ ('TV', 'float32'), ('Radio', 'float32'), ('Newspaper', 'float32'), ('Sales', 'float32')])\n",
      "myrecarray = read_array('Advertising.csv', mydescr)\n",
      "            \n"
     ],
     "language": "python",
     "metadata": {},
     "outputs": [
      {
       "output_type": "stream",
       "stream": "stdout",
       "text": [
        "> \u001b[1;32m<ipython-input-10-384f1f02c2ff>\u001b[0m(12)\u001b[0;36mread_array\u001b[1;34m()\u001b[0m\n",
        "\u001b[1;32m     11 \u001b[1;33m        \u001b[1;32mfor\u001b[0m \u001b[0mi\u001b[0m\u001b[1;33m,\u001b[0m \u001b[0mnumber\u001b[0m \u001b[1;32min\u001b[0m \u001b[0menumerate\u001b[0m\u001b[1;33m(\u001b[0m\u001b[0mfields\u001b[0m\u001b[1;33m)\u001b[0m\u001b[1;33m:\u001b[0m\u001b[1;33m\u001b[0m\u001b[0m\n",
        "\u001b[0m\u001b[1;32m---> 12 \u001b[1;33m            \u001b[0mdata\u001b[0m\u001b[1;33m[\u001b[0m\u001b[0mi\u001b[0m\u001b[1;33m]\u001b[0m\u001b[1;33m.\u001b[0m\u001b[0mappend\u001b[0m\u001b[1;33m(\u001b[0m\u001b[0mnumber\u001b[0m\u001b[1;33m)\u001b[0m\u001b[1;33m\u001b[0m\u001b[0m\n",
        "\u001b[0m\u001b[1;32m     13 \u001b[1;33m    \u001b[1;32mfor\u001b[0m \u001b[0mi\u001b[0m \u001b[1;32min\u001b[0m \u001b[0mxrange\u001b[0m\u001b[1;33m(\u001b[0m\u001b[0mlen\u001b[0m\u001b[1;33m(\u001b[0m\u001b[0mdtype\u001b[0m\u001b[1;33m)\u001b[0m\u001b[1;33m)\u001b[0m\u001b[1;33m:\u001b[0m\u001b[1;33m\u001b[0m\u001b[0m\n",
        "\u001b[0m\n"
       ]
      },
      {
       "name": "stdout",
       "output_type": "stream",
       "stream": "stdout",
       "text": [
        "ipdb> data\n"
       ]
      },
      {
       "output_type": "stream",
       "stream": "stdout",
       "text": [
        "[['\"\"'], ['\"TV\"'], ['\"Radio\"'], ['\"Newspaper\"']]\n"
       ]
      },
      {
       "name": "stdout",
       "output_type": "stream",
       "stream": "stdout",
       "text": [
        "ipdb> i\n"
       ]
      },
      {
       "output_type": "stream",
       "stream": "stdout",
       "text": [
        "4\n"
       ]
      },
      {
       "name": "stdout",
       "output_type": "stream",
       "stream": "stdout",
       "text": [
        "ipdb> data[1]\n"
       ]
      },
      {
       "output_type": "stream",
       "stream": "stdout",
       "text": [
        "['\"TV\"']\n"
       ]
      }
     ]
    },
    {
     "cell_type": "code",
     "collapsed": false,
     "input": [],
     "language": "python",
     "metadata": {},
     "outputs": []
    }
   ],
   "metadata": {}
  }
 ]
}