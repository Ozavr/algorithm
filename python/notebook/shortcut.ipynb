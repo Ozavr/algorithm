{
 "metadata": {
  "name": "",
  "signature": "sha256:6a5ae52b561d2b6241aff6b1637e8002bd37308b43ea9ae740e0acbb2e0968a6"
 },
 "nbformat": 3,
 "nbformat_minor": 0,
 "worksheets": [
  {
   "cells": [
    {
     "cell_type": "code",
     "collapsed": false,
     "input": [
      "%%javascript\n",
      "\n",
      "IPython.keyboard_manager.command_shortcuts.add_shortcut('ctrl-b', {\n",
      "    help : 'run cell',\n",
      "    help_index : 'bb',\n",
      "    handler : function (event) {\n",
      "//         if(IPython.notebook.mode == 'edit'){\n",
      "//             if(IPython.notebook.get_selected_cell().cell_type === 'markdown'){\n",
      "                 IPython.notebook.execute_cell();\n",
      "                 return false;\n",
      "//             }\n",
      "//         }\n",
      "    }}\n",
      ");"
     ],
     "language": "python",
     "metadata": {},
     "outputs": [
      {
       "javascript": [
        "\n",
        "IPython.keyboard_manager.command_shortcuts.add_shortcut('ctrl-b', {\n",
        "    help : 'run cell',\n",
        "    help_index : 'bb',\n",
        "    handler : function (event) {\n",
        "//         if(IPython.notebook.mode == 'edit'){\n",
        "//             if(IPython.notebook.get_selected_cell().cell_type === 'markdown'){\n",
        "                 IPython.notebook.execute_cell();\n",
        "                 return false;\n",
        "//             }\n",
        "//         }\n",
        "    }}\n",
        ");"
       ],
       "metadata": {},
       "output_type": "display_data",
       "text": [
        "<IPython.core.display.Javascript at 0x28fc850>"
       ]
      }
     ],
     "prompt_number": 72
    },
    {
     "cell_type": "markdown",
     "metadata": {},
     "source": [
      "**wadsa**"
     ]
    },
    {
     "cell_type": "markdown",
     "metadata": {},
     "source": [
      "asdsad\n",
      "\n"
     ]
    }
   ],
   "metadata": {}
  }
 ]
}