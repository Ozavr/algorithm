{
 "metadata": {
  "name": "",
  "signature": "sha256:546b75019a75938ce40b1481c011571d4b34f8393aef0b179e41b9b2aa20bb27"
 },
 "nbformat": 3,
 "nbformat_minor": 0,
 "worksheets": [
  {
   "cells": [
    {
     "cell_type": "code",
     "collapsed": false,
     "input": [
      "import numpy as np\n",
      "from numpy import linalg as la\n",
      "a = np.array([[1,0,0,0],[0.5,0,0.5,0],[0,0.5,0,0.5],[0,0,0,1]])\n",
      "print a"
     ],
     "language": "python",
     "metadata": {},
     "outputs": [
      {
       "output_type": "stream",
       "stream": "stdout",
       "text": [
        "[[ 1.   0.   0.   0. ]\n",
        " [ 0.5  0.   0.5  0. ]\n",
        " [ 0.   0.5  0.   0.5]\n",
        " [ 0.   0.   0.   1. ]]\n"
       ]
      }
     ],
     "prompt_number": 1
    },
    {
     "cell_type": "code",
     "collapsed": false,
     "input": [
      "t = a.copy()\n",
      "#b[:, 0] = 0\n",
      "# t[:, 0] = 0\n",
      "# t[1. :] = 0\n",
      "t[:, 3] = 0\n",
      "t[3,3] = 1\n",
      "# t[3,:] = 0\n",
      "print t\n",
      "e = 0\n",
      "l = 1\n",
      "e += l * (a[1,3])\n",
      "# e += l * (a[1,3])\n",
      "for i in range(2,100):\n",
      "    l += 1\n",
      "    p = la.matrix_power(t, i-1).dot(a)\n",
      "    e += l * (p[1,3])\n",
      "print p\n",
      "print e"
     ],
     "language": "python",
     "metadata": {},
     "outputs": [
      {
       "output_type": "stream",
       "stream": "stdout",
       "text": [
        "[[ 1.   0.   0.   0. ]\n",
        " [ 0.5  0.   0.5  0. ]\n",
        " [ 0.   0.5  0.   0. ]\n",
        " [ 0.   0.   0.   1. ]]\n",
        "[[  1.00000000e+000   0.00000000e+000   0.00000000e+000   0.00000000e+000]\n",
        " [  6.66666667e-001   0.00000000e+000   1.86652724e-301   0.00000000e+000]\n",
        " [  3.33333333e-001   1.86652724e-301   0.00000000e+000   1.86652724e-301]\n",
        " [  0.00000000e+000   0.00000000e+000   0.00000000e+000   1.00000000e+000]]\n",
        "0.888888888889\n"
       ]
      }
     ],
     "prompt_number": 14
    },
    {
     "cell_type": "code",
     "collapsed": false,
     "input": [
      "print la.pinv(np.eye(4) - a)\n",
      "s = np.zeros((4,4))\n",
      "for i in range(1,100):\n",
      "    s += la.matrix_power(a,i)\n",
      "print s"
     ],
     "language": "python",
     "metadata": {},
     "outputs": [
      {
       "output_type": "stream",
       "stream": "stdout",
       "text": [
        "[[ 0.  -0.6 -0.4  0. ]\n",
        " [ 0.   0.8  0.2  0. ]\n",
        " [ 0.   0.2  0.8  0. ]\n",
        " [ 0.  -0.4 -0.6  0. ]]\n",
        "[[ 99.           0.           0.           0.        ]\n",
        " [ 65.55555556   0.33333333   0.66666667  32.44444444]\n",
        " [ 32.44444444   0.66666667   0.33333333  65.55555556]\n",
        " [  0.           0.           0.          99.        ]]\n"
       ]
      }
     ],
     "prompt_number": 17
    },
    {
     "cell_type": "code",
     "collapsed": false,
     "input": [
      " "
     ],
     "language": "python",
     "metadata": {},
     "outputs": []
    }
   ],
   "metadata": {}
  }
 ]
}