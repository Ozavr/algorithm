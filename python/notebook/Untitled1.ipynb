{
 "metadata": {
  "name": "",
  "signature": "sha256:7d4e9b5f9ee3654b1f9a45e81ff9768756d21b261654af5a699686a37f016674"
 },
 "nbformat": 3,
 "nbformat_minor": 0,
 "worksheets": [
  {
   "cells": [
    {
     "cell_type": "code",
     "collapsed": false,
     "input": [
      "from scipy import *\n",
      "import scipy.linalg\n",
      "\n",
      "a = ones(3)\n",
      "b = ones(4)\n",
      "print b.T.shape"
     ],
     "language": "python",
     "metadata": {},
     "outputs": [
      {
       "output_type": "stream",
       "stream": "stdout",
       "text": [
        "(4,)\n"
       ]
      }
     ],
     "prompt_number": 12
    }
   ],
   "metadata": {}
  }
 ]
}