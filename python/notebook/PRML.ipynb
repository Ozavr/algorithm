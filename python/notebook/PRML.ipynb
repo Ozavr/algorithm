{
 "metadata": {
  "name": "",
  "signature": "sha256:c8b114a84182852145c1d18ff839e34880d1400b85142a37a4177d65f2de922e"
 },
 "nbformat": 3,
 "nbformat_minor": 0,
 "worksheets": [
  {
   "cells": [
    {
     "cell_type": "heading",
     "level": 1,
     "metadata": {},
     "source": [
      "Introduction"
     ]
    },
    {
     "cell_type": "heading",
     "level": 2,
     "metadata": {},
     "source": [
      "Probability Theory"
     ]
    },
    {
     "cell_type": "markdown",
     "metadata": {},
     "source": [
      "A probility desity $p(x)$ must satisfy the two conditions\n",
      "\n",
      "$$p(x) \\ge 0$$\n",
      "\n",
      "$$\\int^\\infty_{-\\infty}p(x)dx = 1$$"
     ]
    },
    {
     "cell_type": "markdown",
     "metadata": {},
     "source": [
      "Transform $p_x(x)$ into$p_y(y)$\n",
      "\n",
      "$$p_{y}(y) = p_{x}(g(y))|g^{'}(y)| $$"
     ]
    },
    {
     "cell_type": "markdown",
     "metadata": {},
     "source": [
      "For two random variables x and y, thecovarianceis defined by\n",
      "\n",
      "$$cov[x,y] = \\mathbf{E}_{x,y} [\\{x-\\mathbf{E}[x]\\}\\{y-\\mathbf{E}[y]\\}] \n",
      "      \\\\= \\mathbf{E}_{x,y}[xy] - \\mathbf{E}[x]\\mathbf{E}[y]$$"
     ]
    }
   ],
   "metadata": {}
  }
 ]
}