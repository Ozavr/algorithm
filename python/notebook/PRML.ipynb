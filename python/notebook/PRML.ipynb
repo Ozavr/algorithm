{
 "metadata": {
  "name": "",
  "signature": "sha256:0c02634638f4ea5cf2bb21e7a73b7062251471c1be2b2b75b831468d443f1036"
 },
 "nbformat": 3,
 "nbformat_minor": 0,
 "worksheets": [
  {
   "cells": [
    {
     "cell_type": "code",
     "collapsed": false,
     "input": [
      "%%javascript\n",
      "MathJax.Hub.Config({\n",
      "  TeX: { equationNumbers: { autoNumber: \"AMS\" } }\n",
      "});"
     ],
     "language": "python",
     "metadata": {},
     "outputs": [
      {
       "javascript": [
        "MathJax.Hub.Config({\n",
        "  TeX: { equationNumbers: { autoNumber: \"AMS\" } }\n",
        "});"
       ],
       "metadata": {},
       "output_type": "display_data",
       "text": [
        "<IPython.core.display.Javascript at 0x396d850>"
       ]
      }
     ],
     "prompt_number": 1
    },
    {
     "cell_type": "code",
     "collapsed": false,
     "input": [
      "%matplotlib inline\n",
      "import matplotlib.pyplot as plt\n",
      "import numpy as np\n",
      "#import sympy as sp\n",
      "#sp.init_session()"
     ],
     "language": "python",
     "metadata": {},
     "outputs": [],
     "prompt_number": 1
    },
    {
     "cell_type": "heading",
     "level": 1,
     "metadata": {},
     "source": [
      "Introduction"
     ]
    },
    {
     "cell_type": "heading",
     "level": 2,
     "metadata": {},
     "source": [
      "Probability Theory"
     ]
    },
    {
     "cell_type": "markdown",
     "metadata": {},
     "source": [
      "A probility desity $p(x)$ must satisfy the two conditions\n",
      "\n",
      "$$p(x) \\ge 0$$\n",
      "\n",
      "$$\\int^\\infty_{-\\infty}p(x)dx = 1$$"
     ]
    },
    {
     "cell_type": "markdown",
     "metadata": {},
     "source": [
      "Transform $p_x(x)$ into$p_y(y)$\n",
      "\n",
      "$$p_{y}(y) = p_{x}(g(y))|g^{'}(y)| $$"
     ]
    },
    {
     "cell_type": "markdown",
     "metadata": {},
     "source": [
      "For two random variables x and y, thecovarianceis defined by\n",
      "\n",
      "$$cov[x,y] = \\mathbf{E}_{x,y} [\\{x-\\mathbf{E}[x]\\}\\{y-\\mathbf{E}[y]\\}] \n",
      "      \\\\= \\mathbf{E}_{x,y}[xy] - \\mathbf{E}[x]\\mathbf{E}[y]$$"
     ]
    },
    {
     "cell_type": "markdown",
     "metadata": {},
     "source": [
      "$$p(\\mathbf{x}|\\mu,\\sigma^2) = \\prod^{N}_{n=1}\\mathcal{N}(x_n|\\mu,\\sigma^2)$$\n",
      "\n",
      "the log likelihood\n",
      "\n",
      "$$lnp(\\mathbf{x}|\\mu,\\sigma^2) = -\\frac{1}{2\\sigma^2}\\sum_{n=1}^{N}(x_n-\\mu)^2-\\frac{N}{2}ln\\sigma^2-\\frac{N}{2}ln(2\\pi)$$\n",
      "\n",
      "$$\\mu_{ML}=\\frac{1}{N}\\sum^{N}_{n=1}x_n$$\n",
      "\n",
      "$$\\sigma^2_{ML}=\\frac{1}{N}\\sum^{N}_{n=1}(x_n-\\sigma_{ML})^2$$\n",
      "\n",
      "$$\\mathbb{E}[\\sigma^2_{ML}] = (\\frac{N-1}{N})\\sigma^2$$\n",
      "\n",
      "curve fitting,let$\\beta^{-1} = \\sigma^2$ we get\n",
      "$$p(\\mathbf{t}|\\mathbf{x},\\mathbf{w},\\beta) = \\prod_{n=1}^{N}\\mathcal{N}(t_n|y(x_n,\\mathbf{w}),\\beta^{-1})$$\n",
      "then log likelihood function\n",
      "$$lnp(\\mathbf{x}|\\mu,\\beta) = -\\frac{\\beta}{2}\\sum_{n=1}^{N}(y(x_n,\\mathbf{w})-t_n)^2-\\frac{N}{2}ln\\beta-\\frac{N}{2}ln(2\\pi)$$"
     ]
    },
    {
     "cell_type": "heading",
     "level": 2,
     "metadata": {},
     "source": [
      "Probability Distributions"
     ]
    },
    {
     "cell_type": "heading",
     "level": 3,
     "metadata": {},
     "source": [
      "Bernoulli Distribution"
     ]
    },
    {
     "cell_type": "markdown",
     "metadata": {},
     "source": [
      "$$Bern(x|\\mu)=\\mu^x(1-\\mu)^{(1-x)}$$\n",
      "\n",
      "$$E[x] = \\mu$$\n",
      "\n",
      "$$var[x]=\\mu(1-\\mu)$$\n",
      "\n",
      "$$p(D|\\mu)=\\prod^{N}_{n=1}\\mu^{x_n}(1-\\mu)^{1-x_n}$$\n",
      "\n",
      "$$lnp(D|\\mu)=\\sum_{n=1}^N\\{x_nln\\mu+(1-x_n)ln(1-\\mu)\\}$$\n",
      "\n",
      "so\n",
      "$$\\mu_{ML} = \\frac{1}{N}\\sum_{n=1}^{N}x_n$$"
     ]
    },
    {
     "cell_type": "heading",
     "level": 3,
     "metadata": {},
     "source": [
      "Binomial distribution"
     ]
    },
    {
     "cell_type": "markdown",
     "metadata": {},
     "source": [
      "$$Bin(x|N,\\mu)=\\binom{N}{x}\\mu^x(1-\\mu)^{N-x}$$\n",
      "\n",
      "$$E[x]=N\\mu$$\n",
      "\n",
      "$$var[x] = N\\mu(1-\\mu)$$"
     ]
    },
    {
     "cell_type": "heading",
     "level": 3,
     "metadata": {},
     "source": [
      "Beta distribution"
     ]
    },
    {
     "cell_type": "markdown",
     "metadata": {},
     "source": [
      "gamma function\n",
      "$$\\Gamma(a) = \\int_0^{+\\infty}t^{a-1}e^{-t}dt$$\n",
      "$$\\Gamma(a+1)=a\\Gamma(a)$$\n",
      "\n",
      "Beta distribution\n",
      "$$Beta(x|a,b)=\\frac{\\Gamma(a+b)}{\\Gamma(a)\\Gamma(b)}x^{a-1}(1-x)^{b-1}\\qquad 0<x<1, a>0, b>0$$\n",
      "\n",
      "$$E[x]=\\frac{a}{a+b}$$\n",
      "\n",
      "$$var[x]=\\frac{ab}{(a+b)^2(a+b+1)}$$\n"
     ]
    },
    {
     "cell_type": "code",
     "collapsed": false,
     "input": [
      "from sympy.stats import Beta,E,density\n",
      "from sympy import Symbol, simplify, pprint\n",
      "alpha = Symbol(\"alpha\", positive=True)\n",
      "beta = Symbol('beta', positive=True)\n",
      "z = Symbol(\"z\")\n",
      "X = Beta(\"x\", alpha, beta)\n",
      "\n",
      "q = simplify(E(X, meijerg=True))\n",
      "q.as_expr()"
     ],
     "language": "python",
     "metadata": {},
     "outputs": [
      {
       "metadata": {},
       "output_type": "pyout",
       "prompt_number": 12,
       "text": [
        "alpha/(alpha + beta)"
       ]
      }
     ],
     "prompt_number": 12
    },
    {
     "cell_type": "heading",
     "level": 3,
     "metadata": {},
     "source": [
      "Dirichler distribution"
     ]
    },
    {
     "cell_type": "markdown",
     "metadata": {},
     "source": [
      "$$Dir(x|\\alpha)=\\frac{\\Gamma(\\alpha_0)}{\\Gamma(\\alpha_1)...\\Gamma(\\alpha_K)}\\prod_{k=1}^{K}x_k^{\\alpha_k-1}$$"
     ]
    },
    {
     "cell_type": "heading",
     "level": 3,
     "metadata": {},
     "source": [
      "Gaussian Distribution"
     ]
    },
    {
     "cell_type": "markdown",
     "metadata": {},
     "source": [
      "$$\\mathcal{N}(x|\\mu, \\sigma^2) = \\frac{1}{(2\\pi\\sigma^2)^{1/2}}exp\\{-\\frac{1}{2\\sigma^2}(x-\\mu)^2\\}$$\n",
      "\n",
      "for a D-dimensional vector x, the multivariate Gaussian distribution\n",
      "\n",
      "$$\\mathcal{N}(x|\\mathbf\\mu,\\mathbf\\Sigma)=\\frac{1}{(2\\pi)^{1/2}}\\frac{1}{|\\mathbf\\Sigma|^{1/2}}exp\\{-\\frac{1}{2}(x-\\mathbf{\\mu})^T\\mathbf\\Sigma^{-1}(x-\\mathbf\\mu)\\}$$\n",
      "\n",
      "Mahalanobis distance from $\\mathbf\\mu$ to x\n",
      "\n",
      "$$\\Delta^2=(x-\\mathbf{\\mu})^T\\mathbf\\Sigma^{-1}(x-\\mathbf\\mu)$$\n",
      "\u03a3 can be taken to be symmetric, without loss of generality, because any antisymmetric component would disappear from the exponent\n",
      "\n",
      "The covariance matrix \u03a3 can be expressed as an expansion in terms of its eigenvectors in the form\n",
      "$$\\Sigma=\\sum^{D}_{i=1}\\lambda_iu_iu_i^T$$\n",
      "\n",
      "$$\\Sigma^{-1}=\\sum^{D}_{i=1}\\frac{1}{\\lambda_i}u_iu_i^T$$\n",
      "\n",
      "$$\\Delta^2=\\sum^D_{i=1}\\frac{y_i^2}{\\lambda_i}$$\n",
      "$$y_i=u_i^T(x-\\mathbf\\mu)$$\n",
      "\n",
      "Forming the vecor $\\mathbf{y}=(y_1,...,y_D)^T$, we have\n",
      "\n",
      "$$\\mathbf{y}=\\mathbf{U}(x-\\mathbf{\\mu})$$"
     ]
    }
   ],
   "metadata": {}
  }
 ]
}